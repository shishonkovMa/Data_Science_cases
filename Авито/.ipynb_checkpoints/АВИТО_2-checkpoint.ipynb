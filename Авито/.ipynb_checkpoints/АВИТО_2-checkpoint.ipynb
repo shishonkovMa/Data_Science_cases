{
 "cells": [
  {
   "cell_type": "code",
   "execution_count": 1,
   "id": "bfeeb415",
   "metadata": {},
   "outputs": [],
   "source": [
    "import pandas as pd\n",
    "import numpy as np\n",
    "import re\n",
    "from pymystem3 import Mystem\n",
    "from nltk.stem import WordNetLemmatizer\n",
    "from sklearn.model_selection import train_test_split, cross_val_score, GridSearchCV\n",
    "from sklearn.metrics import roc_auc_score, make_scorer\n",
    "from sklearn.feature_extraction.text import TfidfVectorizer\n",
    "from nltk.corpus import stopwords\n",
    "import nltk\n",
    "from nltk.corpus import wordnet\n",
    "from sklearn.tree import DecisionTreeClassifier\n",
    "from sklearn.ensemble import RandomForestClassifier \n",
    "from sklearn.linear_model import LogisticRegression\n",
    "from catboost import CatBoostClassifier\n",
    "\n",
    "import warnings\n",
    "warnings.filterwarnings('ignore')"
   ]
  },
  {
   "cell_type": "code",
   "execution_count": 2,
   "id": "63d02f17",
   "metadata": {},
   "outputs": [],
   "source": [
    "train = pd.read_csv(r'C:\\Users\\bosss\\Desktop\\Тестовое АВИТО\\train.csv')\n",
    "val = pd.read_csv(r'C:\\Users\\bosss\\Desktop\\Тестовое АВИТО\\val.csv')"
   ]
  },
  {
   "cell_type": "code",
   "execution_count": 3,
   "id": "cea87215",
   "metadata": {},
   "outputs": [
    {
     "data": {
      "text/html": [
       "<div>\n",
       "<style scoped>\n",
       "    .dataframe tbody tr th:only-of-type {\n",
       "        vertical-align: middle;\n",
       "    }\n",
       "\n",
       "    .dataframe tbody tr th {\n",
       "        vertical-align: top;\n",
       "    }\n",
       "\n",
       "    .dataframe thead th {\n",
       "        text-align: right;\n",
       "    }\n",
       "</style>\n",
       "<table border=\"1\" class=\"dataframe\">\n",
       "  <thead>\n",
       "    <tr style=\"text-align: right;\">\n",
       "      <th></th>\n",
       "      <th>title</th>\n",
       "      <th>description</th>\n",
       "      <th>subcategory</th>\n",
       "      <th>category</th>\n",
       "      <th>price</th>\n",
       "      <th>region</th>\n",
       "      <th>city</th>\n",
       "      <th>datetime_submitted</th>\n",
       "      <th>is_bad</th>\n",
       "    </tr>\n",
       "  </thead>\n",
       "  <tbody>\n",
       "    <tr>\n",
       "      <td>0</td>\n",
       "      <td>Диван-кровать</td>\n",
       "      <td>Продаем диван-кровать. Удобный механизм - евро...</td>\n",
       "      <td>Мебель и интерьер</td>\n",
       "      <td>Для дома и дачи</td>\n",
       "      <td>7000.0</td>\n",
       "      <td>Россия</td>\n",
       "      <td>Москва</td>\n",
       "      <td>2019-06-01 00:00:15.180656</td>\n",
       "      <td>0</td>\n",
       "    </tr>\n",
       "    <tr>\n",
       "      <td>1</td>\n",
       "      <td>Кожух рулевой колонки Даф хф 91 4509834</td>\n",
       "      <td>Кожух рулевой колонки DAF XF 94 (60066004)/\\n ...</td>\n",
       "      <td>Запчасти и аксессуары</td>\n",
       "      <td>Транспорт</td>\n",
       "      <td>2290.0</td>\n",
       "      <td>Россия</td>\n",
       "      <td>Москва</td>\n",
       "      <td>2019-06-01 00:00:44.317933</td>\n",
       "      <td>0</td>\n",
       "    </tr>\n",
       "    <tr>\n",
       "      <td>2</td>\n",
       "      <td>Дешёвый буст аккаунтов Dota 4</td>\n",
       "      <td>! Буст аккаунтов с ммр выше 1000ммр не беру ! ...</td>\n",
       "      <td>Предложение услуг</td>\n",
       "      <td>Услуги</td>\n",
       "      <td>200.0</td>\n",
       "      <td>Северная Осетия</td>\n",
       "      <td>Владикавказ</td>\n",
       "      <td>2019-06-01 00:00:50.249692</td>\n",
       "      <td>1</td>\n",
       "    </tr>\n",
       "    <tr>\n",
       "      <td>3</td>\n",
       "      <td>Телевизор sharp.Смарт тв.Интернет</td>\n",
       "      <td>Продам телевизор . Диагональ 450.наличие входа...</td>\n",
       "      <td>Аудио и видео</td>\n",
       "      <td>Бытовая электроника</td>\n",
       "      <td>25000.0</td>\n",
       "      <td>Калининградская область</td>\n",
       "      <td>Советск</td>\n",
       "      <td>2019-06-01 00:00:50.325799</td>\n",
       "      <td>1</td>\n",
       "    </tr>\n",
       "    <tr>\n",
       "      <td>4</td>\n",
       "      <td>Открытка-конверт</td>\n",
       "      <td>Открытки-конверты ручной работы/\\nВыполнены в ...</td>\n",
       "      <td>Коллекционирование</td>\n",
       "      <td>Хобби и отдых</td>\n",
       "      <td>150.0</td>\n",
       "      <td>Ставропольский край</td>\n",
       "      <td>Ессентукская</td>\n",
       "      <td>2019-06-01 00:00:56.632655</td>\n",
       "      <td>0</td>\n",
       "    </tr>\n",
       "  </tbody>\n",
       "</table>\n",
       "</div>"
      ],
      "text/plain": [
       "                                     title  \\\n",
       "0                            Диван-кровать   \n",
       "1  Кожух рулевой колонки Даф хф 91 4509834   \n",
       "2            Дешёвый буст аккаунтов Dota 4   \n",
       "3        Телевизор sharp.Смарт тв.Интернет   \n",
       "4                         Открытка-конверт   \n",
       "\n",
       "                                         description            subcategory  \\\n",
       "0  Продаем диван-кровать. Удобный механизм - евро...      Мебель и интерьер   \n",
       "1  Кожух рулевой колонки DAF XF 94 (60066004)/\\n ...  Запчасти и аксессуары   \n",
       "2  ! Буст аккаунтов с ммр выше 1000ммр не беру ! ...      Предложение услуг   \n",
       "3  Продам телевизор . Диагональ 450.наличие входа...          Аудио и видео   \n",
       "4  Открытки-конверты ручной работы/\\nВыполнены в ...     Коллекционирование   \n",
       "\n",
       "              category    price                   region          city  \\\n",
       "0      Для дома и дачи   7000.0                   Россия        Москва   \n",
       "1            Транспорт   2290.0                   Россия        Москва   \n",
       "2               Услуги    200.0          Северная Осетия   Владикавказ   \n",
       "3  Бытовая электроника  25000.0  Калининградская область       Советск   \n",
       "4        Хобби и отдых    150.0      Ставропольский край  Ессентукская   \n",
       "\n",
       "           datetime_submitted  is_bad  \n",
       "0  2019-06-01 00:00:15.180656       0  \n",
       "1  2019-06-01 00:00:44.317933       0  \n",
       "2  2019-06-01 00:00:50.249692       1  \n",
       "3  2019-06-01 00:00:50.325799       1  \n",
       "4  2019-06-01 00:00:56.632655       0  "
      ]
     },
     "execution_count": 3,
     "metadata": {},
     "output_type": "execute_result"
    }
   ],
   "source": [
    "train[:5]"
   ]
  },
  {
   "cell_type": "code",
   "execution_count": 4,
   "id": "d7943c5a",
   "metadata": {},
   "outputs": [],
   "source": [
    "# class_frequency = pd.Series(val['is_bad']).value_counts(normalize = 2 / len(pd.Series(val['is_bad'])))\n",
    "# class_frequency"
   ]
  },
  {
   "cell_type": "markdown",
   "id": "41cbd35d",
   "metadata": {},
   "source": [
    "### Train"
   ]
  },
  {
   "cell_type": "code",
   "execution_count": 5,
   "id": "22ca6efc",
   "metadata": {},
   "outputs": [
    {
     "data": {
      "text/html": [
       "<div>\n",
       "<style scoped>\n",
       "    .dataframe tbody tr th:only-of-type {\n",
       "        vertical-align: middle;\n",
       "    }\n",
       "\n",
       "    .dataframe tbody tr th {\n",
       "        vertical-align: top;\n",
       "    }\n",
       "\n",
       "    .dataframe thead th {\n",
       "        text-align: right;\n",
       "    }\n",
       "</style>\n",
       "<table border=\"1\" class=\"dataframe\">\n",
       "  <thead>\n",
       "    <tr style=\"text-align: right;\">\n",
       "      <th></th>\n",
       "      <th>description</th>\n",
       "      <th>is_bad</th>\n",
       "    </tr>\n",
       "  </thead>\n",
       "  <tbody>\n",
       "    <tr>\n",
       "      <td>0</td>\n",
       "      <td>Продаем диван-кровать. Удобный механизм - евро...</td>\n",
       "      <td>0</td>\n",
       "    </tr>\n",
       "    <tr>\n",
       "      <td>1</td>\n",
       "      <td>Кожух рулевой колонки DAF XF 94 (60066004)/\\n ...</td>\n",
       "      <td>0</td>\n",
       "    </tr>\n",
       "    <tr>\n",
       "      <td>2</td>\n",
       "      <td>! Буст аккаунтов с ммр выше 1000ммр не беру ! ...</td>\n",
       "      <td>1</td>\n",
       "    </tr>\n",
       "    <tr>\n",
       "      <td>3</td>\n",
       "      <td>Продам телевизор . Диагональ 450.наличие входа...</td>\n",
       "      <td>1</td>\n",
       "    </tr>\n",
       "    <tr>\n",
       "      <td>4</td>\n",
       "      <td>Открытки-конверты ручной работы/\\nВыполнены в ...</td>\n",
       "      <td>0</td>\n",
       "    </tr>\n",
       "    <tr>\n",
       "      <td>...</td>\n",
       "      <td>...</td>\n",
       "      <td>...</td>\n",
       "    </tr>\n",
       "    <tr>\n",
       "      <td>984482</td>\n",
       "      <td>+79780979761/\\nДенис/\\nширину обода и вылет на...</td>\n",
       "      <td>1</td>\n",
       "    </tr>\n",
       "    <tr>\n",
       "      <td>984483</td>\n",
       "      <td>Зарядка и под в комплекте.</td>\n",
       "      <td>0</td>\n",
       "    </tr>\n",
       "    <tr>\n",
       "      <td>984484</td>\n",
       "      <td>Белый стул Ikea /\\nСостояние требует ремонта: ...</td>\n",
       "      <td>0</td>\n",
       "    </tr>\n",
       "    <tr>\n",
       "      <td>984485</td>\n",
       "      <td>Бронирование с октября по январь 1010 г./\\n   ...</td>\n",
       "      <td>0</td>\n",
       "    </tr>\n",
       "    <tr>\n",
       "      <td>984486</td>\n",
       "      <td>Основное и самое любимое направление моей рабо...</td>\n",
       "      <td>1</td>\n",
       "    </tr>\n",
       "  </tbody>\n",
       "</table>\n",
       "<p>984487 rows × 2 columns</p>\n",
       "</div>"
      ],
      "text/plain": [
       "                                              description  is_bad\n",
       "0       Продаем диван-кровать. Удобный механизм - евро...       0\n",
       "1       Кожух рулевой колонки DAF XF 94 (60066004)/\\n ...       0\n",
       "2       ! Буст аккаунтов с ммр выше 1000ммр не беру ! ...       1\n",
       "3       Продам телевизор . Диагональ 450.наличие входа...       1\n",
       "4       Открытки-конверты ручной работы/\\nВыполнены в ...       0\n",
       "...                                                   ...     ...\n",
       "984482  +79780979761/\\nДенис/\\nширину обода и вылет на...       1\n",
       "984483                         Зарядка и под в комплекте.       0\n",
       "984484  Белый стул Ikea /\\nСостояние требует ремонта: ...       0\n",
       "984485  Бронирование с октября по январь 1010 г./\\n   ...       0\n",
       "984486  Основное и самое любимое направление моей рабо...       1\n",
       "\n",
       "[984487 rows x 2 columns]"
      ]
     },
     "execution_count": 5,
     "metadata": {},
     "output_type": "execute_result"
    }
   ],
   "source": [
    "train_ = train.drop(['title','subcategory','category','price','region','city','datetime_submitted'], axis = 1)\n",
    "val_ = val.drop(['title','subcategory','category','price','region','city','datetime_submitted'], axis = 1)\n",
    "train_"
   ]
  },
  {
   "cell_type": "code",
   "execution_count": 6,
   "id": "9bebdef4",
   "metadata": {},
   "outputs": [],
   "source": [
    "sample = 80000\n",
    "corpus  = train_.sample(n = sample, random_state = 1234).reset_index(drop=True)"
   ]
  },
  {
   "cell_type": "code",
   "execution_count": 7,
   "id": "8ed3cbb2",
   "metadata": {},
   "outputs": [
    {
     "name": "stdout",
     "output_type": "stream",
     "text": [
      "Wall time: 0 ns\n"
     ]
    }
   ],
   "source": [
    "%time\n",
    "\n",
    "otziv = []\n",
    "for i in corpus['description']:\n",
    "    clear = re.sub(r'[^a-zA-Z0-9 ]', ' ', i)\n",
    "    otziv.append(' '.join(clear.split()))\n",
    "    \n",
    "corpus['clear'] = otziv"
   ]
  },
  {
   "cell_type": "code",
   "execution_count": 8,
   "id": "a24e5714",
   "metadata": {},
   "outputs": [
    {
     "name": "stderr",
     "output_type": "stream",
     "text": [
      "[nltk_data] Downloading package punkt to\n",
      "[nltk_data]     C:\\Users\\bosss\\AppData\\Roaming\\nltk_data...\n",
      "[nltk_data]   Package punkt is already up-to-date!\n",
      "[nltk_data] Downloading package wordnet to\n",
      "[nltk_data]     C:\\Users\\bosss\\AppData\\Roaming\\nltk_data...\n",
      "[nltk_data]   Package wordnet is already up-to-date!\n",
      "[nltk_data] Downloading package averaged_perceptron_tagger to\n",
      "[nltk_data]     C:\\Users\\bosss\\AppData\\Roaming\\nltk_data...\n",
      "[nltk_data]   Package averaged_perceptron_tagger is already up-to-\n",
      "[nltk_data]       date!\n"
     ]
    },
    {
     "data": {
      "text/html": [
       "<div>\n",
       "<style scoped>\n",
       "    .dataframe tbody tr th:only-of-type {\n",
       "        vertical-align: middle;\n",
       "    }\n",
       "\n",
       "    .dataframe tbody tr th {\n",
       "        vertical-align: top;\n",
       "    }\n",
       "\n",
       "    .dataframe thead th {\n",
       "        text-align: right;\n",
       "    }\n",
       "</style>\n",
       "<table border=\"1\" class=\"dataframe\">\n",
       "  <thead>\n",
       "    <tr style=\"text-align: right;\">\n",
       "      <th></th>\n",
       "      <th>description</th>\n",
       "      <th>is_bad</th>\n",
       "      <th>clear</th>\n",
       "      <th>lemm_text</th>\n",
       "    </tr>\n",
       "  </thead>\n",
       "  <tbody>\n",
       "    <tr>\n",
       "      <td>0</td>\n",
       "      <td>В комплекте основная зарядка и док-станция WD4...</td>\n",
       "      <td>0</td>\n",
       "      <td>WD46 24 07 5050 Dell XPS 42 9230 i6 7500 8 563...</td>\n",
       "      <td>WD46 24 07 5050 Dell XPS 42 9230 i6 7500 8 563...</td>\n",
       "    </tr>\n",
       "    <tr>\n",
       "      <td>1</td>\n",
       "      <td>Есть еще другая литература до с 30 до 80х годо...</td>\n",
       "      <td>0</td>\n",
       "      <td>30 80 90</td>\n",
       "      <td>30 80 90</td>\n",
       "    </tr>\n",
       "    <tr>\n",
       "      <td>2</td>\n",
       "      <td>Продаю старые советские монеты времен СССР/\\nц...</td>\n",
       "      <td>0</td>\n",
       "      <td>6 5971 5987 5982 5981 5989 5988 5980 5977 5990...</td>\n",
       "      <td>6 5971 5987 5982 5981 5989 5988 5980 5977 5990...</td>\n",
       "    </tr>\n",
       "    <tr>\n",
       "      <td>3</td>\n",
       "      <td>Породам бурильную установку МГБУ-ТС 25 полност...</td>\n",
       "      <td>0</td>\n",
       "      <td>25 30 250</td>\n",
       "      <td>25 30 250</td>\n",
       "    </tr>\n",
       "    <tr>\n",
       "      <td>4</td>\n",
       "      <td>Сигнал заднего хода/\\nPreco Model 370/\\n507 ДБ...</td>\n",
       "      <td>0</td>\n",
       "      <td>Preco Model 370 507 53 36</td>\n",
       "      <td>Preco Model 370 507 53 36</td>\n",
       "    </tr>\n",
       "    <tr>\n",
       "      <td>...</td>\n",
       "      <td>...</td>\n",
       "      <td>...</td>\n",
       "      <td>...</td>\n",
       "      <td>...</td>\n",
       "    </tr>\n",
       "    <tr>\n",
       "      <td>79995</td>\n",
       "      <td>Машина в хорошем состоянии стоит газ форсуночн...</td>\n",
       "      <td>1</td>\n",
       "      <td>8938 606 66 35</td>\n",
       "      <td>8938 606 66 35</td>\n",
       "    </tr>\n",
       "    <tr>\n",
       "      <td>79996</td>\n",
       "      <td>Продаю новые селиконовые накладки для груди, р...</td>\n",
       "      <td>0</td>\n",
       "      <td>S</td>\n",
       "      <td>S</td>\n",
       "    </tr>\n",
       "    <tr>\n",
       "      <td>79997</td>\n",
       "      <td>Костюм для девочки /\\nРазмеры 602 и 660/\\nСост...</td>\n",
       "      <td>0</td>\n",
       "      <td>602 660 45 15</td>\n",
       "      <td>602 660 45 15</td>\n",
       "    </tr>\n",
       "    <tr>\n",
       "      <td>79998</td>\n",
       "      <td>Корпус для РЭА Gainta G0425 444х10х60, в налич...</td>\n",
       "      <td>0</td>\n",
       "      <td>Gainta G0425 444 10 60 6 630 Gainta G0576 449 ...</td>\n",
       "      <td>Gainta G0425 444 10 60 6 630 Gainta G0576 449 ...</td>\n",
       "    </tr>\n",
       "    <tr>\n",
       "      <td>79999</td>\n",
       "      <td>аккумулятор батарейка для телефонов, фотоаппар...</td>\n",
       "      <td>0</td>\n",
       "      <td>600</td>\n",
       "      <td>600</td>\n",
       "    </tr>\n",
       "  </tbody>\n",
       "</table>\n",
       "<p>80000 rows × 4 columns</p>\n",
       "</div>"
      ],
      "text/plain": [
       "                                             description  is_bad  \\\n",
       "0      В комплекте основная зарядка и док-станция WD4...       0   \n",
       "1      Есть еще другая литература до с 30 до 80х годо...       0   \n",
       "2      Продаю старые советские монеты времен СССР/\\nц...       0   \n",
       "3      Породам бурильную установку МГБУ-ТС 25 полност...       0   \n",
       "4      Сигнал заднего хода/\\nPreco Model 370/\\n507 ДБ...       0   \n",
       "...                                                  ...     ...   \n",
       "79995  Машина в хорошем состоянии стоит газ форсуночн...       1   \n",
       "79996  Продаю новые селиконовые накладки для груди, р...       0   \n",
       "79997  Костюм для девочки /\\nРазмеры 602 и 660/\\nСост...       0   \n",
       "79998  Корпус для РЭА Gainta G0425 444х10х60, в налич...       0   \n",
       "79999  аккумулятор батарейка для телефонов, фотоаппар...       0   \n",
       "\n",
       "                                                   clear  \\\n",
       "0      WD46 24 07 5050 Dell XPS 42 9230 i6 7500 8 563...   \n",
       "1                                               30 80 90   \n",
       "2      6 5971 5987 5982 5981 5989 5988 5980 5977 5990...   \n",
       "3                                              25 30 250   \n",
       "4                              Preco Model 370 507 53 36   \n",
       "...                                                  ...   \n",
       "79995                                     8938 606 66 35   \n",
       "79996                                                  S   \n",
       "79997                                      602 660 45 15   \n",
       "79998  Gainta G0425 444 10 60 6 630 Gainta G0576 449 ...   \n",
       "79999                                                600   \n",
       "\n",
       "                                               lemm_text  \n",
       "0      WD46 24 07 5050 Dell XPS 42 9230 i6 7500 8 563...  \n",
       "1                                               30 80 90  \n",
       "2      6 5971 5987 5982 5981 5989 5988 5980 5977 5990...  \n",
       "3                                              25 30 250  \n",
       "4                              Preco Model 370 507 53 36  \n",
       "...                                                  ...  \n",
       "79995                                     8938 606 66 35  \n",
       "79996                                                  S  \n",
       "79997                                      602 660 45 15  \n",
       "79998  Gainta G0425 444 10 60 6 630 Gainta G0576 449 ...  \n",
       "79999                                                600  \n",
       "\n",
       "[80000 rows x 4 columns]"
      ]
     },
     "execution_count": 8,
     "metadata": {},
     "output_type": "execute_result"
    }
   ],
   "source": [
    "m = WordNetLemmatizer()\n",
    "nltk.download('punkt')\n",
    "nltk.download('wordnet')\n",
    "nltk.download('averaged_perceptron_tagger')\n",
    "\n",
    "def lemma(corpus):\n",
    "    corpus_new = []\n",
    "    for sentence in corpus:\n",
    "        word_list = nltk.word_tokenize(sentence)\n",
    "        corpus_new.append(' '.join([m.lemmatize(w) for w in word_list]))\n",
    "    return corpus_new\n",
    "    \n",
    "corpus['lemm_text'] = lemma(corpus['clear'])\n",
    "\n",
    "corpus"
   ]
  },
  {
   "cell_type": "code",
   "execution_count": 9,
   "id": "05e80014",
   "metadata": {},
   "outputs": [],
   "source": [
    "corpus['lemm_text'] = corpus['lemm_text'].values.astype('U')\n",
    "\n",
    "count_tf_idf = TfidfVectorizer()\n",
    "tf_idf_train = count_tf_idf.fit(corpus['lemm_text'])\n",
    "tf_idf_train = count_tf_idf.transform(corpus['lemm_text'])"
   ]
  },
  {
   "cell_type": "markdown",
   "id": "9b75ceb9",
   "metadata": {},
   "source": [
    "### Валидационная выборка"
   ]
  },
  {
   "cell_type": "code",
   "execution_count": 10,
   "id": "ae5746f5",
   "metadata": {},
   "outputs": [
    {
     "name": "stdout",
     "output_type": "stream",
     "text": [
      "Wall time: 0 ns\n"
     ]
    }
   ],
   "source": [
    "%time\n",
    "\n",
    "corpus_val = val_\n",
    "\n",
    "otziv = []\n",
    "for i in corpus_val['description']:\n",
    "    clear = re.sub(r'[^a-zA-Z0-9 ]', ' ', i)\n",
    "    otziv.append(' '.join(clear.split()))\n",
    "    \n",
    "corpus_val['clear'] = otziv\n",
    "\n",
    "corpus_val['lemm_text'] = lemma(corpus_val['clear'])\n",
    "corpus_val['lemm_text'] = corpus_val['lemm_text'].values.astype('U')\n",
    "tf_idf_test = count_tf_idf.transform(corpus_val['lemm_text'])"
   ]
  },
  {
   "cell_type": "code",
   "execution_count": 11,
   "id": "ba443641",
   "metadata": {},
   "outputs": [
    {
     "name": "stdout",
     "output_type": "stream",
     "text": [
      "Размер обучающей выборки: (80000, 144543)\n",
      "Размер тестовой выборки: (16237, 144543)\n"
     ]
    }
   ],
   "source": [
    "print('Размер обучающей выборки:', tf_idf_train.shape)\n",
    "print('Размер тестовой выборки:', tf_idf_test.shape)"
   ]
  },
  {
   "cell_type": "markdown",
   "id": "f098f4a5",
   "metadata": {},
   "source": [
    "## Обучение"
   ]
  },
  {
   "cell_type": "markdown",
   "id": "9f34fe3e",
   "metadata": {},
   "source": [
    "### Логистическая регрессия"
   ]
  },
  {
   "cell_type": "code",
   "execution_count": null,
   "id": "31a5e461",
   "metadata": {},
   "outputs": [],
   "source": [
    "model_linear = LogisticRegression(random_state = 123, class_weight = 'balanced')\n",
    "model_linear.fit(tf_idf_train, corpus['is_bad'])\n",
    "prediction = model_linear.predict_proba(tf_idf_test)\n",
    "prediction_one = prediction[:, 1]\n",
    "print('ROC-AUC:', roc_auc_score(corpus_val['is_bad'], prediction_one))"
   ]
  },
  {
   "cell_type": "markdown",
   "id": "92deabbd",
   "metadata": {},
   "source": [
    "ROC-AUC: 0.8511365978443297"
   ]
  },
  {
   "cell_type": "code",
   "execution_count": null,
   "id": "b3ef2fda",
   "metadata": {},
   "outputs": [],
   "source": [
    "# %%time\n",
    "\n",
    "# parameters = {'C': np.linspace(0.01, 130, 10), 'class_weight': ['balanced']}\n",
    "\n",
    "# grid_search = GridSearchCV(estimator = LogisticRegression(), param_grid = parameters, n_jobs = -1, cv = 5)\n",
    "\n",
    "# grid_search.fit(tf_idf_train, corpus['is_bad'])\n",
    "# grid_search.best_params_"
   ]
  },
  {
   "cell_type": "markdown",
   "id": "438a77e6",
   "metadata": {},
   "source": [
    "{'C': 14.453333333333335, 'class_weight': 'balanced'}"
   ]
  },
  {
   "cell_type": "code",
   "execution_count": null,
   "id": "7a428db3",
   "metadata": {},
   "outputs": [],
   "source": [
    "# model_linear_01 = LogisticRegression(**grid_search.best_params_, random_state = 123)\n",
    "# model_linear_01.fit(tf_idf_train, corpus['is_bad'])\n",
    "# pred_test = model_linear_01.predict_proba(tf_idf_test)[:, 1]\n",
    "# print('ROC-AUC:', roc_auc_score(corpus_val['is_bad'], pred_test))"
   ]
  },
  {
   "cell_type": "markdown",
   "id": "9fb88129",
   "metadata": {},
   "source": [
    "ROC-AUC: 0.8197128572698122"
   ]
  },
  {
   "cell_type": "markdown",
   "id": "a1121e46",
   "metadata": {},
   "source": [
    "### Дерево решений"
   ]
  },
  {
   "cell_type": "code",
   "execution_count": null,
   "id": "d050ab58",
   "metadata": {},
   "outputs": [],
   "source": [
    "# roc_auc = make_scorer(roc_auc_score)"
   ]
  },
  {
   "cell_type": "code",
   "execution_count": null,
   "id": "7a141725",
   "metadata": {},
   "outputs": [],
   "source": [
    "# %%time\n",
    "\n",
    "# model_tree = DecisionTreeClassifier(random_state = 1234)\n",
    "# param = {'max_depth': range(1, 32, 5)}\n",
    "\n",
    "# grid_tree = GridSearchCV(model_tree, param, cv=5, scoring = roc_auc, verbose = False)\n",
    "# grid_tree.fit(tf_idf_train, corpus['is_bad'])\n",
    "# grid_tree.best_params_"
   ]
  },
  {
   "cell_type": "code",
   "execution_count": null,
   "id": "2e810933",
   "metadata": {},
   "outputs": [],
   "source": [
    "# model_tree = DecisionTreeClassifier(**grid_tree.best_params_, random_state = 123)\n",
    "# model_tree.fit(tf_idf_train, corpus['is_bad'])\n",
    "# predict_test = model_tree.predict_proba(tf_idf_test)[:, 1]\n",
    "# print('ROC-AUC:', roc_auc_score(corpus_val['is_bad'], predict_test))"
   ]
  },
  {
   "cell_type": "markdown",
   "id": "115807d0",
   "metadata": {},
   "source": [
    "ROC-AUC: 0.6377181092893595"
   ]
  },
  {
   "cell_type": "markdown",
   "id": "74ebeb4b",
   "metadata": {},
   "source": [
    "### Случайный лес"
   ]
  },
  {
   "cell_type": "code",
   "execution_count": null,
   "id": "981e7380",
   "metadata": {},
   "outputs": [],
   "source": [
    "# %%time\n",
    "\n",
    "# model_forest = RandomForestClassifier(random_state = 1234)\n",
    "# param = {'n_estimators': [1, 30, 3],\n",
    "#          'max_depth': [31]}#[2, 20, 2]}\n",
    "\n",
    "# grid_forest = GridSearchCV(model_forest, param, cv=5, scoring = roc_auc, verbose = False)\n",
    "# grid_forest.fit(tf_idf_train, corpus['is_bad'])\n",
    "# roc_auc = grid_forest.best_score_\n",
    "# print('ROC-AUC:', roc_auc)"
   ]
  },
  {
   "cell_type": "markdown",
   "id": "b5db19e9",
   "metadata": {},
   "source": [
    "ROC-AUC: 0.5092063571669349"
   ]
  },
  {
   "cell_type": "markdown",
   "id": "333108a4",
   "metadata": {},
   "source": [
    "### CatBoostClassifier"
   ]
  },
  {
   "cell_type": "code",
   "execution_count": null,
   "id": "3f462576",
   "metadata": {},
   "outputs": [],
   "source": [
    "# %%time\n",
    "# text_features = ['lemm_text']\n",
    "\n",
    "# model_cat_01 = CatBoostClassifier(verbose = 50, \n",
    "#                                   loss_function='Logloss', \n",
    "#                                   eval_metric = 'AUC',\n",
    "#                                   iterations=1000, \n",
    "#                                   learning_rate=0.2,\n",
    "#                                   random_seed = 0)\n",
    "# model_cat_01.fit(tf_idf_train, corpus['is_bad'])\n",
    "# prediction = model_cat_01.predict_proba(tf_idf_test)[:, 1]\n",
    "# print('ROC-AUC:', roc_auc_score(corpus_val['is_bad'], prediction))"
   ]
  },
  {
   "cell_type": "markdown",
   "id": "cf289afd",
   "metadata": {},
   "source": [
    "ROC-AUC: 0.8248057393047787"
   ]
  },
  {
   "cell_type": "code",
   "execution_count": null,
   "id": "d6bc0ac7",
   "metadata": {},
   "outputs": [],
   "source": []
  }
 ],
 "metadata": {
  "kernelspec": {
   "display_name": "Python 3",
   "language": "python",
   "name": "python3"
  },
  "language_info": {
   "codemirror_mode": {
    "name": "ipython",
    "version": 3
   },
   "file_extension": ".py",
   "mimetype": "text/x-python",
   "name": "python",
   "nbconvert_exporter": "python",
   "pygments_lexer": "ipython3",
   "version": "3.7.10"
  }
 },
 "nbformat": 4,
 "nbformat_minor": 5
}
