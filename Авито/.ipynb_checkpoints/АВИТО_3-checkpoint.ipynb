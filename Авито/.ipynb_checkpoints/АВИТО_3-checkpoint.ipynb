{
 "cells": [
  {
   "cell_type": "code",
   "execution_count": 1,
   "id": "88988f60",
   "metadata": {},
   "outputs": [],
   "source": [
    "import pandas as pd\n",
    "import numpy as np\n",
    "import re\n",
    "# from pymystem3 import Mystem\n",
    "# from nltk.stem import WordNetLemmatizer\n",
    "from sklearn.model_selection import train_test_split, GridSearchCV#, cross_val_score, \n",
    "from sklearn.metrics import roc_auc_score#, make_scorer\n",
    "from sklearn.feature_extraction.text import TfidfVectorizer\n",
    "# from nltk.corpus import stopwords\n",
    "import nltk\n",
    "# from nltk.corpus import wordnet\n",
    "# from sklearn.tree import DecisionTreeClassifier\n",
    "# from sklearn.ensemble import RandomForestClassifier \n",
    "from sklearn.linear_model import LogisticRegression\n",
    "# from catboost import CatBoostClassifier\n",
    "\n",
    "# import warnings\n",
    "# warnings.filterwarnings('ignore')"
   ]
  },
  {
   "cell_type": "markdown",
   "id": "4a225bf9",
   "metadata": {},
   "source": [
    "numpy 1.18.3<br>\n",
    "pandas 0.25.1<br>\n",
    "scikit-learn 0.21.2<br>\n",
    "nltk 3.4.1<br>\n",
    "re 2.2.1"
   ]
  },
  {
   "cell_type": "code",
   "execution_count": 2,
   "id": "9bab6c41",
   "metadata": {},
   "outputs": [],
   "source": [
    "train = pd.read_csv(r'C:\\Users\\bosss\\Desktop\\Тестовое АВИТО\\train.csv')\n",
    "val = pd.read_csv(r'C:\\Users\\bosss\\Desktop\\Тестовое АВИТО\\val.csv')"
   ]
  },
  {
   "cell_type": "code",
   "execution_count": 3,
   "id": "8ac9419b",
   "metadata": {},
   "outputs": [],
   "source": [
    "train_ = train.drop(['title','subcategory','category','price','region','city','datetime_submitted'], axis = 1)\n",
    "val_ = val.drop(['title','subcategory','category','price','region','city','datetime_submitted'], axis = 1)"
   ]
  },
  {
   "cell_type": "code",
   "execution_count": 4,
   "id": "3bfaf411",
   "metadata": {},
   "outputs": [
    {
     "name": "stdout",
     "output_type": "stream",
     "text": [
      "Wall time: 0 ns\n"
     ]
    },
    {
     "data": {
      "text/html": [
       "<div>\n",
       "<style scoped>\n",
       "    .dataframe tbody tr th:only-of-type {\n",
       "        vertical-align: middle;\n",
       "    }\n",
       "\n",
       "    .dataframe tbody tr th {\n",
       "        vertical-align: top;\n",
       "    }\n",
       "\n",
       "    .dataframe thead th {\n",
       "        text-align: right;\n",
       "    }\n",
       "</style>\n",
       "<table border=\"1\" class=\"dataframe\">\n",
       "  <thead>\n",
       "    <tr style=\"text-align: right;\">\n",
       "      <th></th>\n",
       "      <th>description</th>\n",
       "      <th>is_bad</th>\n",
       "      <th>lemm_text</th>\n",
       "    </tr>\n",
       "  </thead>\n",
       "  <tbody>\n",
       "    <tr>\n",
       "      <td>0</td>\n",
       "      <td>Звонить 89425546881</td>\n",
       "      <td>1</td>\n",
       "      <td>Звонить 89425546881</td>\n",
       "    </tr>\n",
       "    <tr>\n",
       "      <td>1</td>\n",
       "      <td>Мобильная перегородка, предназначена для разгр...</td>\n",
       "      <td>0</td>\n",
       "      <td>Мобильная перегородка предназначена для разгра...</td>\n",
       "    </tr>\n",
       "    <tr>\n",
       "      <td>2</td>\n",
       "      <td>Шины зимние б/у Marshal Assimetric I”Zen KW 61...</td>\n",
       "      <td>1</td>\n",
       "      <td>Шины зимние б у 61 681 41 63 диски литые униве...</td>\n",
       "    </tr>\n",
       "    <tr>\n",
       "      <td>3</td>\n",
       "      <td>Продаю кровать-трансформер производства \"Столп...</td>\n",
       "      <td>0</td>\n",
       "      <td>Продаю кровать трансформер производства Столпл...</td>\n",
       "    </tr>\n",
       "    <tr>\n",
       "      <td>4</td>\n",
       "      <td>Мот в отличном состоянии для своих лет, Родной...</td>\n",
       "      <td>0</td>\n",
       "      <td>Мот в отличном состоянии для своих лет Родной ...</td>\n",
       "    </tr>\n",
       "    <tr>\n",
       "      <td>...</td>\n",
       "      <td>...</td>\n",
       "      <td>...</td>\n",
       "      <td>...</td>\n",
       "    </tr>\n",
       "    <tr>\n",
       "      <td>16232</td>\n",
       "      <td>Сдаются офисное помещение по Ул Калинина 80. П...</td>\n",
       "      <td>0</td>\n",
       "      <td>Сдаются офисное помещение по Ул Калинина 80 По...</td>\n",
       "    </tr>\n",
       "    <tr>\n",
       "      <td>16233</td>\n",
       "      <td>Оригинальный ростест айфон. Идеальное состояни...</td>\n",
       "      <td>0</td>\n",
       "      <td>Оригинальный ростест айфон Идеальное состояние...</td>\n",
       "    </tr>\n",
       "    <tr>\n",
       "      <td>16234</td>\n",
       "      <td>______________________________________________...</td>\n",
       "      <td>0</td>\n",
       "      <td>ПРОСТОРНАЯ КВАРТИРА С ХОРОШЕЙ ПЛАНИРОВКОЙ Рабо...</td>\n",
       "    </tr>\n",
       "    <tr>\n",
       "      <td>16235</td>\n",
       "      <td>/\\n /\\n● Работаем БЕЗ ПЕРЕРЫВОВ И ВЫХОДНЫХ с ...</td>\n",
       "      <td>0</td>\n",
       "      <td>Работаем БЕЗ ПЕРЕРЫВОВ И ВЫХОДНЫХ с 9 00 до 12...</td>\n",
       "    </tr>\n",
       "    <tr>\n",
       "      <td>16236</td>\n",
       "      <td>Машина технически в отличном состояние все сис...</td>\n",
       "      <td>1</td>\n",
       "      <td>Машина технически в отличном состояние все сис...</td>\n",
       "    </tr>\n",
       "  </tbody>\n",
       "</table>\n",
       "<p>16237 rows × 3 columns</p>\n",
       "</div>"
      ],
      "text/plain": [
       "                                             description  is_bad  \\\n",
       "0                                    Звонить 89425546881       1   \n",
       "1      Мобильная перегородка, предназначена для разгр...       0   \n",
       "2      Шины зимние б/у Marshal Assimetric I”Zen KW 61...       1   \n",
       "3      Продаю кровать-трансформер производства \"Столп...       0   \n",
       "4      Мот в отличном состоянии для своих лет, Родной...       0   \n",
       "...                                                  ...     ...   \n",
       "16232  Сдаются офисное помещение по Ул Калинина 80. П...       0   \n",
       "16233  Оригинальный ростест айфон. Идеальное состояни...       0   \n",
       "16234  ______________________________________________...       0   \n",
       "16235   /\\n /\\n● Работаем БЕЗ ПЕРЕРЫВОВ И ВЫХОДНЫХ с ...       0   \n",
       "16236  Машина технически в отличном состояние все сис...       1   \n",
       "\n",
       "                                               lemm_text  \n",
       "0                                    Звонить 89425546881  \n",
       "1      Мобильная перегородка предназначена для разгра...  \n",
       "2      Шины зимние б у 61 681 41 63 диски литые униве...  \n",
       "3      Продаю кровать трансформер производства Столпл...  \n",
       "4      Мот в отличном состоянии для своих лет Родной ...  \n",
       "...                                                  ...  \n",
       "16232  Сдаются офисное помещение по Ул Калинина 80 По...  \n",
       "16233  Оригинальный ростест айфон Идеальное состояние...  \n",
       "16234  ПРОСТОРНАЯ КВАРТИРА С ХОРОШЕЙ ПЛАНИРОВКОЙ Рабо...  \n",
       "16235  Работаем БЕЗ ПЕРЕРЫВОВ И ВЫХОДНЫХ с 9 00 до 12...  \n",
       "16236  Машина технически в отличном состояние все сис...  \n",
       "\n",
       "[16237 rows x 3 columns]"
      ]
     },
     "execution_count": 4,
     "metadata": {},
     "output_type": "execute_result"
    }
   ],
   "source": [
    "%time\n",
    "\n",
    "otziv = []\n",
    "for i in val_['description']:\n",
    "    clear = re.sub(r'[^а-яА-Я0-9 ]', ' ', i)\n",
    "    otziv.append(' '.join(clear.split()))\n",
    "    \n",
    "val_['lemm_text'] = otziv\n",
    "val_"
   ]
  },
  {
   "cell_type": "code",
   "execution_count": 6,
   "id": "1fa74a1e",
   "metadata": {},
   "outputs": [],
   "source": [
    "# m = WordNetLemmatizer()\n",
    "# nltk.download('punkt')\n",
    "# nltk.download('wordnet')\n",
    "# nltk.download('averaged_perceptron_tagger')\n",
    "\n",
    "# def lemma(corpus):\n",
    "#     corpus_new = []\n",
    "#     for sentence in corpus:\n",
    "#         word_list = nltk.word_tokenize(sentence)\n",
    "#         corpus_new.append(' '.join([m.lemmatize(w) for w in word_list]))\n",
    "#     return corpus_new\n",
    "    \n",
    "# val_['lemm_text'] = lemma(val_['clear'])\n",
    "\n",
    "# val_"
   ]
  },
  {
   "cell_type": "code",
   "execution_count": 7,
   "id": "1f336b42",
   "metadata": {},
   "outputs": [],
   "source": [
    "# def get_wordnet_pos(word):\n",
    "#     tag = nltk.pos_tag([word])[0][1][0].upper()\n",
    "#     tag_dict = {'J': wordnet.ADJ,\n",
    "#                'N': wordnet.NOUN,\n",
    "#                'V': wordnet.VERB,\n",
    "#                'R': wordnet.ADV,}\n",
    "#     return tag_dict.get(tag, wordnet.NOUN)"
   ]
  },
  {
   "cell_type": "code",
   "execution_count": 8,
   "id": "dabe3e90",
   "metadata": {},
   "outputs": [],
   "source": [
    "# def get_word_text(corpus):\n",
    "#     corpus_new = []\n",
    "#     for sentence in corpus:\n",
    "#         corpus_new.append(' '.join([m.lemmatize(w, get_wordnet_pos(w)) for w in nltk.word_tokenize(sentence)]))\n",
    "#     return corpus_new"
   ]
  },
  {
   "cell_type": "code",
   "execution_count": 9,
   "id": "721bed3d",
   "metadata": {},
   "outputs": [],
   "source": [
    "# %%time\n",
    "## около 108 минут\n",
    "# val_['lemma_text'] = get_word_text(val_['lemm_text'])"
   ]
  },
  {
   "cell_type": "code",
   "execution_count": 10,
   "id": "710bd085",
   "metadata": {},
   "outputs": [],
   "source": [
    "train_val_, test_val_ = train_test_split(val_, stratify = val_['is_bad'], test_size = 0.20, random_state = 12345)"
   ]
  },
  {
   "cell_type": "code",
   "execution_count": 11,
   "id": "b8720ae2",
   "metadata": {},
   "outputs": [
    {
     "name": "stderr",
     "output_type": "stream",
     "text": [
      "C:\\Users\\bosss\\anaconda3\\envs\\praktikum\\lib\\site-packages\\ipykernel_launcher.py:1: SettingWithCopyWarning: \n",
      "A value is trying to be set on a copy of a slice from a DataFrame.\n",
      "Try using .loc[row_indexer,col_indexer] = value instead\n",
      "\n",
      "See the caveats in the documentation: http://pandas.pydata.org/pandas-docs/stable/user_guide/indexing.html#returning-a-view-versus-a-copy\n",
      "  \"\"\"Entry point for launching an IPython kernel.\n",
      "C:\\Users\\bosss\\anaconda3\\envs\\praktikum\\lib\\site-packages\\ipykernel_launcher.py:2: SettingWithCopyWarning: \n",
      "A value is trying to be set on a copy of a slice from a DataFrame.\n",
      "Try using .loc[row_indexer,col_indexer] = value instead\n",
      "\n",
      "See the caveats in the documentation: http://pandas.pydata.org/pandas-docs/stable/user_guide/indexing.html#returning-a-view-versus-a-copy\n",
      "  \n"
     ]
    },
    {
     "name": "stdout",
     "output_type": "stream",
     "text": [
      "Размер обучающей выборки: (12989, 88683)\n",
      "Размер тестовой выборки: (3248, 88683)\n",
      "Wall time: 11.7 s\n"
     ]
    }
   ],
   "source": [
    "%%time\n",
    "\n",
    "train_val_['lemm_text'] = train_val_['lemm_text'].values.astype('U')\n",
    "test_val_['lemm_text'] = test_val_['lemm_text'].values.astype('U')\n",
    "\n",
    "count_tf_idf = TfidfVectorizer()\n",
    "tf_idf_train = count_tf_idf.fit(train_val_['lemm_text'])\n",
    "tf_idf_train = count_tf_idf.transform(train_val_['lemm_text'])\n",
    "tf_idf_test = count_tf_idf.transform(test_val_['lemm_text'])\n",
    "\n",
    "print('Размер обучающей выборки:', tf_idf_train.shape)\n",
    "print('Размер тестовой выборки:', tf_idf_test.shape)"
   ]
  },
  {
   "cell_type": "code",
   "execution_count": 12,
   "id": "97c2e5c7",
   "metadata": {},
   "outputs": [
    {
     "name": "stderr",
     "output_type": "stream",
     "text": [
      "C:\\Users\\bosss\\anaconda3\\envs\\praktikum\\lib\\site-packages\\sklearn\\linear_model\\logistic.py:432: FutureWarning: Default solver will be changed to 'lbfgs' in 0.22. Specify a solver to silence this warning.\n",
      "  FutureWarning)\n"
     ]
    },
    {
     "name": "stdout",
     "output_type": "stream",
     "text": [
      "ROC-AUC: 0.9509343208702568\n"
     ]
    }
   ],
   "source": [
    "model_linear = LogisticRegression(random_state = 123)#, class_weight = 'balanced')\n",
    "model_linear.fit(tf_idf_train, train_val_['is_bad'])\n",
    "prediction = model_linear.predict_proba(tf_idf_test)[:, 1]\n",
    "print('ROC-AUC:', roc_auc_score(test_val_['is_bad'], prediction))"
   ]
  },
  {
   "cell_type": "code",
   "execution_count": 13,
   "id": "11dac9b9",
   "metadata": {},
   "outputs": [
    {
     "name": "stderr",
     "output_type": "stream",
     "text": [
      "C:\\Users\\bosss\\anaconda3\\envs\\praktikum\\lib\\site-packages\\sklearn\\linear_model\\logistic.py:432: FutureWarning: Default solver will be changed to 'lbfgs' in 0.22. Specify a solver to silence this warning.\n",
      "  FutureWarning)\n"
     ]
    },
    {
     "name": "stdout",
     "output_type": "stream",
     "text": [
      "Wall time: 5min 16s\n"
     ]
    },
    {
     "data": {
      "text/plain": [
       "{'C': 16.280508474576273, 'class_weight': 'balanced'}"
      ]
     },
     "execution_count": 13,
     "metadata": {},
     "output_type": "execute_result"
    }
   ],
   "source": [
    "%%time\n",
    "\n",
    "parameters = {'C': np.linspace(0.05, 20, 60), 'class_weight': ['balanced', None]}\n",
    "\n",
    "grid_search = GridSearchCV(estimator = LogisticRegression(), param_grid = parameters, n_jobs = -1, cv = 5)\n",
    "\n",
    "grid_search.fit(tf_idf_train, train_val_['is_bad'])\n",
    "grid_search.best_params_"
   ]
  },
  {
   "cell_type": "code",
   "execution_count": 14,
   "id": "3e0c0a86",
   "metadata": {},
   "outputs": [
    {
     "name": "stdout",
     "output_type": "stream",
     "text": [
      "ROC-AUC: 0.9541185741103562\n"
     ]
    }
   ],
   "source": [
    "model_linear_01 = LogisticRegression(**grid_search.best_params_, random_state = 123)\n",
    "model_linear_01.fit(tf_idf_train, train_val_['is_bad'])\n",
    "pred_test = model_linear_01.predict_proba(tf_idf_test)[:, 1]\n",
    "print('ROC-AUC:', roc_auc_score(test_val_['is_bad'], pred_test))"
   ]
  },
  {
   "cell_type": "markdown",
   "id": "ac1a68cb",
   "metadata": {},
   "source": [
    "Лучший скор: `логистическая регрессия` на выборке `val` с `re.sub(r'[^а-яА-Я0-9 ]', ' ', i)` и `{'C': 16.280508474576273, 'class_weight': 'balanced'}`: ROC-AUC = 0.954"
   ]
  }
 ],
 "metadata": {
  "kernelspec": {
   "display_name": "Python 3",
   "language": "python",
   "name": "python3"
  },
  "language_info": {
   "codemirror_mode": {
    "name": "ipython",
    "version": 3
   },
   "file_extension": ".py",
   "mimetype": "text/x-python",
   "name": "python",
   "nbconvert_exporter": "python",
   "pygments_lexer": "ipython3",
   "version": "3.7.10"
  }
 },
 "nbformat": 4,
 "nbformat_minor": 5
}
