{
 "cells": [
  {
   "cell_type": "code",
   "execution_count": 1,
   "id": "74494b01",
   "metadata": {},
   "outputs": [],
   "source": [
    "import pandas as pd\n",
    "import numpy as np\n",
    "import re\n",
    "from sklearn.model_selection import train_test_split, GridSearchCV\n",
    "from sklearn.metrics import roc_auc_score\n",
    "from sklearn.feature_extraction.text import TfidfVectorizer\n",
    "import nltk\n",
    "from sklearn.linear_model import LogisticRegression\n",
    "\n",
    "\n",
    "def prediction(val, test):\n",
    "    \n",
    "    val_ = val.drop(['title','subcategory','category','price','region','city','datetime_submitted'], axis = 1)\n",
    "    test_ = test.drop(['title','subcategory','category','price','region','city','datetime_submitted'], axis = 1)\n",
    "\n",
    "    otziv = []\n",
    "    for i in val_['description']:\n",
    "        clear = re.sub(r'[^а-яА-Я0-9 ]', ' ', i)\n",
    "        otziv.append(' '.join(clear.split()))\n",
    "    val_['lemm_text'] = otziv\n",
    "    \n",
    "    otziv_t = []\n",
    "    for i in test_['description']:\n",
    "        clear = re.sub(r'[^а-яА-Я0-9 ]', ' ', i)\n",
    "        otziv_t.append(' '.join(clear.split()))\n",
    "    test_['lemm_text'] = otziv_t\n",
    "\n",
    "    train, val = train_test_split(val_, stratify = val_['is_bad'], test_size = 0.20, random_state = 12345)\n",
    "\n",
    "    train['lemm_text'] = train['lemm_text'].values.astype('U')\n",
    "    val['lemm_text'] = val['lemm_text'].values.astype('U')\n",
    "\n",
    "    count_tf_idf = TfidfVectorizer()\n",
    "    tf_idf_train = count_tf_idf.fit(train['lemm_text'])\n",
    "    tf_idf_train = count_tf_idf.transform(train['lemm_text'])\n",
    "    tf_idf_val = count_tf_idf.transform(val['lemm_text'])\n",
    "    tf_idf_test = count_tf_idf.transform(test_['lemm_text'])\n",
    "\n",
    "    parameters = {'C': np.linspace(0.05, 20, 60), 'class_weight': ['balanced', None]}\n",
    "    grid_search = GridSearchCV(estimator = LogisticRegression(), param_grid = parameters, n_jobs = -1, cv = 5)\n",
    "    grid_search.fit(tf_idf_train, train['is_bad'])\n",
    "\n",
    "    model_linear = LogisticRegression(**grid_search.best_params_, random_state = 123)\n",
    "    \n",
    "    \n",
    "    final = val_['lemm_text'].values.astype('U')\n",
    "    tf_idf_final = count_tf_idf.transform(final)\n",
    "    \n",
    "    \n",
    "    model_linear.fit(tf_idf_final,val_['is_bad'])\n",
    "    pred_test = model_linear.predict_proba(tf_idf_test)[:, 1]\n",
    "    \n",
    "    return pred_test"
   ]
  }
 ],
 "metadata": {
  "kernelspec": {
   "display_name": "Python 3",
   "language": "python",
   "name": "python3"
  },
  "language_info": {
   "codemirror_mode": {
    "name": "ipython",
    "version": 3
   },
   "file_extension": ".py",
   "mimetype": "text/x-python",
   "name": "python",
   "nbconvert_exporter": "python",
   "pygments_lexer": "ipython3",
   "version": "3.7.10"
  }
 },
 "nbformat": 4,
 "nbformat_minor": 5
}
