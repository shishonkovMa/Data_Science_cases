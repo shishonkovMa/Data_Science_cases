{
 "cells": [
  {
   "cell_type": "code",
   "execution_count": 1,
   "id": "f22a84cf",
   "metadata": {},
   "outputs": [],
   "source": [
    "import pandas as pd"
   ]
  },
  {
   "cell_type": "code",
   "execution_count": 2,
   "id": "f13bec8b",
   "metadata": {},
   "outputs": [],
   "source": [
    "train = pd.read_csv(r'C:\\Users\\bosss\\Desktop\\Тестовое АВИТО\\train.csv')\n",
    "val = pd.read_csv(r'C:\\Users\\bosss\\Desktop\\Тестовое АВИТО\\val.csv')"
   ]
  },
  {
   "cell_type": "markdown",
   "id": "33ac8c91",
   "metadata": {},
   "source": [
    "## Обработаем валидационные данные и глянем на корреляцию между признаками и целевым признаком"
   ]
  },
  {
   "cell_type": "code",
   "execution_count": 3,
   "id": "c17a6981",
   "metadata": {},
   "outputs": [],
   "source": [
    "new_val = val.drop(['title', 'datetime_submitted'], axis = 1)\n",
    "# new_val"
   ]
  },
  {
   "cell_type": "code",
   "execution_count": 4,
   "id": "6c20346c",
   "metadata": {},
   "outputs": [],
   "source": [
    "kategor = ['subcategory', 'category', 'region', 'city']\n",
    "ne_kategor = ['description', 'price', 'is_bad']"
   ]
  },
  {
   "cell_type": "code",
   "execution_count": 5,
   "id": "05d08897",
   "metadata": {},
   "outputs": [],
   "source": [
    "from sklearn.preprocessing import OrdinalEncoder, StandardScaler"
   ]
  },
  {
   "cell_type": "code",
   "execution_count": 6,
   "id": "87322e74",
   "metadata": {},
   "outputs": [],
   "source": [
    "encoder = OrdinalEncoder()\n",
    "encoder.fit(new_val[kategor])\n",
    "data_ordinal = encoder.transform(new_val[kategor])\n",
    "data_ordinal = pd.DataFrame(encoder.transform(new_val[kategor]), columns = new_val[kategor].columns)\n",
    "# data_ordinal"
   ]
  },
  {
   "cell_type": "code",
   "execution_count": 7,
   "id": "54089678",
   "metadata": {},
   "outputs": [
    {
     "data": {
      "text/html": [
       "<div>\n",
       "<style scoped>\n",
       "    .dataframe tbody tr th:only-of-type {\n",
       "        vertical-align: middle;\n",
       "    }\n",
       "\n",
       "    .dataframe tbody tr th {\n",
       "        vertical-align: top;\n",
       "    }\n",
       "\n",
       "    .dataframe thead th {\n",
       "        text-align: right;\n",
       "    }\n",
       "</style>\n",
       "<table border=\"1\" class=\"dataframe\">\n",
       "  <thead>\n",
       "    <tr style=\"text-align: right;\">\n",
       "      <th></th>\n",
       "      <th>subcategory</th>\n",
       "      <th>category</th>\n",
       "      <th>region</th>\n",
       "      <th>city</th>\n",
       "      <th>description</th>\n",
       "      <th>price</th>\n",
       "      <th>is_bad</th>\n",
       "    </tr>\n",
       "  </thead>\n",
       "  <tbody>\n",
       "    <tr>\n",
       "      <td>0</td>\n",
       "      <td>14.0</td>\n",
       "      <td>7.0</td>\n",
       "      <td>70.0</td>\n",
       "      <td>715.0</td>\n",
       "      <td>Звонить 89425546881</td>\n",
       "      <td>2000.0</td>\n",
       "      <td>1</td>\n",
       "    </tr>\n",
       "    <tr>\n",
       "      <td>1</td>\n",
       "      <td>30.0</td>\n",
       "      <td>1.0</td>\n",
       "      <td>11.0</td>\n",
       "      <td>196.0</td>\n",
       "      <td>Мобильная перегородка, предназначена для разгр...</td>\n",
       "      <td>10500.0</td>\n",
       "      <td>0</td>\n",
       "    </tr>\n",
       "    <tr>\n",
       "      <td>2</td>\n",
       "      <td>14.0</td>\n",
       "      <td>7.0</td>\n",
       "      <td>54.0</td>\n",
       "      <td>620.0</td>\n",
       "      <td>Шины зимние б/у Marshal Assimetric I”Zen KW 61...</td>\n",
       "      <td>4000.0</td>\n",
       "      <td>1</td>\n",
       "    </tr>\n",
       "    <tr>\n",
       "      <td>3</td>\n",
       "      <td>24.0</td>\n",
       "      <td>2.0</td>\n",
       "      <td>41.0</td>\n",
       "      <td>1073.0</td>\n",
       "      <td>Продаю кровать-трансформер производства \"Столп...</td>\n",
       "      <td>17000.0</td>\n",
       "      <td>0</td>\n",
       "    </tr>\n",
       "    <tr>\n",
       "      <td>4</td>\n",
       "      <td>25.0</td>\n",
       "      <td>7.0</td>\n",
       "      <td>7.0</td>\n",
       "      <td>148.0</td>\n",
       "      <td>Мот в отличном состоянии для своих лет, Родной...</td>\n",
       "      <td>235000.0</td>\n",
       "      <td>0</td>\n",
       "    </tr>\n",
       "    <tr>\n",
       "      <td>...</td>\n",
       "      <td>...</td>\n",
       "      <td>...</td>\n",
       "      <td>...</td>\n",
       "      <td>...</td>\n",
       "      <td>...</td>\n",
       "      <td>...</td>\n",
       "      <td>...</td>\n",
       "    </tr>\n",
       "    <tr>\n",
       "      <td>16232</td>\n",
       "      <td>20.0</td>\n",
       "      <td>5.0</td>\n",
       "      <td>80.0</td>\n",
       "      <td>1091.0</td>\n",
       "      <td>Сдаются офисное помещение по Ул Калинина 80. П...</td>\n",
       "      <td>9200.0</td>\n",
       "      <td>0</td>\n",
       "    </tr>\n",
       "    <tr>\n",
       "      <td>16233</td>\n",
       "      <td>44.0</td>\n",
       "      <td>0.0</td>\n",
       "      <td>67.0</td>\n",
       "      <td>382.0</td>\n",
       "      <td>Оригинальный ростест айфон. Идеальное состояни...</td>\n",
       "      <td>20000.0</td>\n",
       "      <td>0</td>\n",
       "    </tr>\n",
       "    <tr>\n",
       "      <td>16234</td>\n",
       "      <td>17.0</td>\n",
       "      <td>5.0</td>\n",
       "      <td>65.0</td>\n",
       "      <td>813.0</td>\n",
       "      <td>______________________________________________...</td>\n",
       "      <td>3300000.0</td>\n",
       "      <td>0</td>\n",
       "    </tr>\n",
       "    <tr>\n",
       "      <td>16235</td>\n",
       "      <td>17.0</td>\n",
       "      <td>5.0</td>\n",
       "      <td>65.0</td>\n",
       "      <td>813.0</td>\n",
       "      <td>/\\n /\\n● Работаем БЕЗ ПЕРЕРЫВОВ И ВЫХОДНЫХ с ...</td>\n",
       "      <td>2300000.0</td>\n",
       "      <td>0</td>\n",
       "    </tr>\n",
       "    <tr>\n",
       "      <td>16236</td>\n",
       "      <td>0.0</td>\n",
       "      <td>7.0</td>\n",
       "      <td>43.0</td>\n",
       "      <td>661.0</td>\n",
       "      <td>Машина технически в отличном состояние все сис...</td>\n",
       "      <td>1550000.0</td>\n",
       "      <td>1</td>\n",
       "    </tr>\n",
       "  </tbody>\n",
       "</table>\n",
       "<p>16237 rows × 7 columns</p>\n",
       "</div>"
      ],
      "text/plain": [
       "       subcategory  category  region    city  \\\n",
       "0             14.0       7.0    70.0   715.0   \n",
       "1             30.0       1.0    11.0   196.0   \n",
       "2             14.0       7.0    54.0   620.0   \n",
       "3             24.0       2.0    41.0  1073.0   \n",
       "4             25.0       7.0     7.0   148.0   \n",
       "...            ...       ...     ...     ...   \n",
       "16232         20.0       5.0    80.0  1091.0   \n",
       "16233         44.0       0.0    67.0   382.0   \n",
       "16234         17.0       5.0    65.0   813.0   \n",
       "16235         17.0       5.0    65.0   813.0   \n",
       "16236          0.0       7.0    43.0   661.0   \n",
       "\n",
       "                                             description      price  is_bad  \n",
       "0                                    Звонить 89425546881     2000.0       1  \n",
       "1      Мобильная перегородка, предназначена для разгр...    10500.0       0  \n",
       "2      Шины зимние б/у Marshal Assimetric I”Zen KW 61...     4000.0       1  \n",
       "3      Продаю кровать-трансформер производства \"Столп...    17000.0       0  \n",
       "4      Мот в отличном состоянии для своих лет, Родной...   235000.0       0  \n",
       "...                                                  ...        ...     ...  \n",
       "16232  Сдаются офисное помещение по Ул Калинина 80. П...     9200.0       0  \n",
       "16233  Оригинальный ростест айфон. Идеальное состояни...    20000.0       0  \n",
       "16234  ______________________________________________...  3300000.0       0  \n",
       "16235   /\\n /\\n● Работаем БЕЗ ПЕРЕРЫВОВ И ВЫХОДНЫХ с ...  2300000.0       0  \n",
       "16236  Машина технически в отличном состояние все сис...  1550000.0       1  \n",
       "\n",
       "[16237 rows x 7 columns]"
      ]
     },
     "execution_count": 7,
     "metadata": {},
     "output_type": "execute_result"
    }
   ],
   "source": [
    "n_val = data_ordinal.join(new_val[ne_kategor])\n",
    "n_val"
   ]
  },
  {
   "cell_type": "code",
   "execution_count": 8,
   "id": "df855620",
   "metadata": {},
   "outputs": [],
   "source": [
    "# scaler = StandardScaler()\n",
    "# scaler.fit(n_val)\n",
    "# val_ = scaler.transform(n_val)\n",
    "# val_"
   ]
  },
  {
   "cell_type": "code",
   "execution_count": 9,
   "id": "ea8036e0",
   "metadata": {},
   "outputs": [],
   "source": [
    "# _val_ = pd.DataFrame(val_, columns = n_val.columns)\n",
    "# _val_"
   ]
  },
  {
   "cell_type": "code",
   "execution_count": 10,
   "id": "b5a29947",
   "metadata": {},
   "outputs": [],
   "source": [
    "# _val_.corr()"
   ]
  },
  {
   "cell_type": "markdown",
   "id": "19c33b08",
   "metadata": {},
   "source": [
    "Сильная связь отсутствует, в таком случае, попробуем для начала обучить на CatBoostClassifier с категориальными признаками, посмотрим на результат. И в зависимости от него будем двигаться дальше"
   ]
  },
  {
   "cell_type": "markdown",
   "id": "6465e397",
   "metadata": {},
   "source": [
    "## Обработаем 80тыс. тренировочных данных"
   ]
  },
  {
   "cell_type": "code",
   "execution_count": 11,
   "id": "d566bd16",
   "metadata": {},
   "outputs": [],
   "source": [
    "new_train = train.drop(['title', 'datetime_submitted'], axis = 1)\n",
    "# new_train"
   ]
  },
  {
   "cell_type": "code",
   "execution_count": 12,
   "id": "89422c79",
   "metadata": {},
   "outputs": [],
   "source": [
    "sample = 80000\n",
    "new_train = new_train.sample(n = sample, random_state = 1234).reset_index(drop=True)"
   ]
  },
  {
   "cell_type": "code",
   "execution_count": 13,
   "id": "97d746eb",
   "metadata": {},
   "outputs": [],
   "source": [
    "kategor = ['subcategory', 'category', 'region', 'city']\n",
    "ne_kategor = ['description', 'price', 'is_bad']"
   ]
  },
  {
   "cell_type": "code",
   "execution_count": 14,
   "id": "c515d80c",
   "metadata": {},
   "outputs": [],
   "source": [
    "encoder = OrdinalEncoder()\n",
    "encoder.fit(new_train[kategor])\n",
    "data_ordinal = encoder.transform(new_train[kategor])\n",
    "data_ordinal = pd.DataFrame(encoder.transform(new_train[kategor]), columns = new_train[kategor].columns)\n",
    "# data_ordinal"
   ]
  },
  {
   "cell_type": "code",
   "execution_count": 15,
   "id": "26338603",
   "metadata": {},
   "outputs": [
    {
     "data": {
      "text/html": [
       "<div>\n",
       "<style scoped>\n",
       "    .dataframe tbody tr th:only-of-type {\n",
       "        vertical-align: middle;\n",
       "    }\n",
       "\n",
       "    .dataframe tbody tr th {\n",
       "        vertical-align: top;\n",
       "    }\n",
       "\n",
       "    .dataframe thead th {\n",
       "        text-align: right;\n",
       "    }\n",
       "</style>\n",
       "<table border=\"1\" class=\"dataframe\">\n",
       "  <thead>\n",
       "    <tr style=\"text-align: right;\">\n",
       "      <th></th>\n",
       "      <th>subcategory</th>\n",
       "      <th>category</th>\n",
       "      <th>region</th>\n",
       "      <th>city</th>\n",
       "      <th>description</th>\n",
       "      <th>price</th>\n",
       "      <th>is_bad</th>\n",
       "    </tr>\n",
       "  </thead>\n",
       "  <tbody>\n",
       "    <tr>\n",
       "      <td>0</td>\n",
       "      <td>29.0</td>\n",
       "      <td>0.0</td>\n",
       "      <td>55.0</td>\n",
       "      <td>1329.0</td>\n",
       "      <td>В комплекте основная зарядка и док-станция WD4...</td>\n",
       "      <td>45000.0</td>\n",
       "      <td>0</td>\n",
       "    </tr>\n",
       "    <tr>\n",
       "      <td>1</td>\n",
       "      <td>18.0</td>\n",
       "      <td>9.0</td>\n",
       "      <td>63.0</td>\n",
       "      <td>622.0</td>\n",
       "      <td>Есть еще другая литература до с 30 до 80х годо...</td>\n",
       "      <td>NaN</td>\n",
       "      <td>0</td>\n",
       "    </tr>\n",
       "    <tr>\n",
       "      <td>2</td>\n",
       "      <td>19.0</td>\n",
       "      <td>9.0</td>\n",
       "      <td>55.0</td>\n",
       "      <td>1329.0</td>\n",
       "      <td>Продаю старые советские монеты времен СССР/\\nц...</td>\n",
       "      <td>800.0</td>\n",
       "      <td>0</td>\n",
       "    </tr>\n",
       "    <tr>\n",
       "      <td>3</td>\n",
       "      <td>10.0</td>\n",
       "      <td>7.0</td>\n",
       "      <td>73.0</td>\n",
       "      <td>2167.0</td>\n",
       "      <td>Породам бурильную установку МГБУ-ТС 25 полност...</td>\n",
       "      <td>210000.0</td>\n",
       "      <td>0</td>\n",
       "    </tr>\n",
       "    <tr>\n",
       "      <td>4</td>\n",
       "      <td>14.0</td>\n",
       "      <td>7.0</td>\n",
       "      <td>25.0</td>\n",
       "      <td>998.0</td>\n",
       "      <td>Сигнал заднего хода/\\nPreco Model 370/\\n507 ДБ...</td>\n",
       "      <td>2500.0</td>\n",
       "      <td>0</td>\n",
       "    </tr>\n",
       "    <tr>\n",
       "      <td>...</td>\n",
       "      <td>...</td>\n",
       "      <td>...</td>\n",
       "      <td>...</td>\n",
       "      <td>...</td>\n",
       "      <td>...</td>\n",
       "      <td>...</td>\n",
       "      <td>...</td>\n",
       "    </tr>\n",
       "    <tr>\n",
       "      <td>79995</td>\n",
       "      <td>0.0</td>\n",
       "      <td>7.0</td>\n",
       "      <td>13.0</td>\n",
       "      <td>558.0</td>\n",
       "      <td>Машина в хорошем состоянии стоит газ форсуночн...</td>\n",
       "      <td>160000.0</td>\n",
       "      <td>1</td>\n",
       "    </tr>\n",
       "    <tr>\n",
       "      <td>79996</td>\n",
       "      <td>45.0</td>\n",
       "      <td>4.0</td>\n",
       "      <td>10.0</td>\n",
       "      <td>390.0</td>\n",
       "      <td>Продаю новые селиконовые накладки для груди, р...</td>\n",
       "      <td>250.0</td>\n",
       "      <td>0</td>\n",
       "    </tr>\n",
       "    <tr>\n",
       "      <td>79997</td>\n",
       "      <td>11.0</td>\n",
       "      <td>4.0</td>\n",
       "      <td>55.0</td>\n",
       "      <td>1329.0</td>\n",
       "      <td>Костюм для девочки /\\nРазмеры 602 и 660/\\nСост...</td>\n",
       "      <td>1000.0</td>\n",
       "      <td>0</td>\n",
       "    </tr>\n",
       "    <tr>\n",
       "      <td>79998</td>\n",
       "      <td>2.0</td>\n",
       "      <td>0.0</td>\n",
       "      <td>84.0</td>\n",
       "      <td>1841.0</td>\n",
       "      <td>Корпус для РЭА Gainta G0425 444х10х60, в налич...</td>\n",
       "      <td>400.0</td>\n",
       "      <td>0</td>\n",
       "    </tr>\n",
       "    <tr>\n",
       "      <td>79999</td>\n",
       "      <td>44.0</td>\n",
       "      <td>0.0</td>\n",
       "      <td>68.0</td>\n",
       "      <td>802.0</td>\n",
       "      <td>аккумулятор батарейка для телефонов, фотоаппар...</td>\n",
       "      <td>100.0</td>\n",
       "      <td>0</td>\n",
       "    </tr>\n",
       "  </tbody>\n",
       "</table>\n",
       "<p>80000 rows × 7 columns</p>\n",
       "</div>"
      ],
      "text/plain": [
       "       subcategory  category  region    city  \\\n",
       "0             29.0       0.0    55.0  1329.0   \n",
       "1             18.0       9.0    63.0   622.0   \n",
       "2             19.0       9.0    55.0  1329.0   \n",
       "3             10.0       7.0    73.0  2167.0   \n",
       "4             14.0       7.0    25.0   998.0   \n",
       "...            ...       ...     ...     ...   \n",
       "79995          0.0       7.0    13.0   558.0   \n",
       "79996         45.0       4.0    10.0   390.0   \n",
       "79997         11.0       4.0    55.0  1329.0   \n",
       "79998          2.0       0.0    84.0  1841.0   \n",
       "79999         44.0       0.0    68.0   802.0   \n",
       "\n",
       "                                             description     price  is_bad  \n",
       "0      В комплекте основная зарядка и док-станция WD4...   45000.0       0  \n",
       "1      Есть еще другая литература до с 30 до 80х годо...       NaN       0  \n",
       "2      Продаю старые советские монеты времен СССР/\\nц...     800.0       0  \n",
       "3      Породам бурильную установку МГБУ-ТС 25 полност...  210000.0       0  \n",
       "4      Сигнал заднего хода/\\nPreco Model 370/\\n507 ДБ...    2500.0       0  \n",
       "...                                                  ...       ...     ...  \n",
       "79995  Машина в хорошем состоянии стоит газ форсуночн...  160000.0       1  \n",
       "79996  Продаю новые селиконовые накладки для груди, р...     250.0       0  \n",
       "79997  Костюм для девочки /\\nРазмеры 602 и 660/\\nСост...    1000.0       0  \n",
       "79998  Корпус для РЭА Gainta G0425 444х10х60, в налич...     400.0       0  \n",
       "79999  аккумулятор батарейка для телефонов, фотоаппар...     100.0       0  \n",
       "\n",
       "[80000 rows x 7 columns]"
      ]
     },
     "execution_count": 15,
     "metadata": {},
     "output_type": "execute_result"
    }
   ],
   "source": [
    "n_train = data_ordinal.join(new_train[ne_kategor])\n",
    "n_train"
   ]
  },
  {
   "cell_type": "code",
   "execution_count": 16,
   "id": "9cf06eca",
   "metadata": {},
   "outputs": [],
   "source": [
    "# scaler = StandardScaler()\n",
    "# scaler.fit(n_train)\n",
    "# train_ = scaler.transform(n_train)\n",
    "# train_"
   ]
  },
  {
   "cell_type": "code",
   "execution_count": 17,
   "id": "5b0a3044",
   "metadata": {},
   "outputs": [],
   "source": [
    "# _train_ = pd.DataFrame(train_, columns = n_train.columns)\n",
    "# _train_"
   ]
  },
  {
   "cell_type": "markdown",
   "id": "1459a6f7",
   "metadata": {},
   "source": [
    "## Обучение на трейне"
   ]
  },
  {
   "cell_type": "code",
   "execution_count": 18,
   "id": "3b05f298",
   "metadata": {},
   "outputs": [],
   "source": [
    "feature_train = n_train.drop(['is_bad'], axis = 1)\n",
    "target_train = n_train['is_bad']"
   ]
  },
  {
   "cell_type": "code",
   "execution_count": 19,
   "id": "75065407",
   "metadata": {},
   "outputs": [
    {
     "name": "stdout",
     "output_type": "stream",
     "text": [
      "<class 'pandas.core.frame.DataFrame'>\n",
      "RangeIndex: 80000 entries, 0 to 79999\n",
      "Data columns (total 6 columns):\n",
      "subcategory    80000 non-null float64\n",
      "category       80000 non-null float64\n",
      "region         80000 non-null float64\n",
      "city           80000 non-null float64\n",
      "description    80000 non-null object\n",
      "price          75366 non-null float64\n",
      "dtypes: float64(5), object(1)\n",
      "memory usage: 3.7+ MB\n"
     ]
    }
   ],
   "source": [
    "feature_train.info()"
   ]
  },
  {
   "cell_type": "code",
   "execution_count": 20,
   "id": "266653fe",
   "metadata": {},
   "outputs": [],
   "source": [
    "# feature_train_ = feature_train.drop(['title', 'datetime_submitted'], axis = 1)\n",
    "# feature_train_"
   ]
  },
  {
   "cell_type": "code",
   "execution_count": 21,
   "id": "2545fc4c",
   "metadata": {},
   "outputs": [
    {
     "name": "stdout",
     "output_type": "stream",
     "text": [
      "<class 'pandas.core.frame.DataFrame'>\n",
      "RangeIndex: 80000 entries, 0 to 79999\n",
      "Data columns (total 6 columns):\n",
      "subcategory    80000 non-null float64\n",
      "category       80000 non-null float64\n",
      "region         80000 non-null float64\n",
      "city           80000 non-null float64\n",
      "description    80000 non-null object\n",
      "price          80000 non-null float64\n",
      "dtypes: float64(5), object(1)\n",
      "memory usage: 3.7+ MB\n"
     ]
    }
   ],
   "source": [
    "feature_train_ = feature_train.fillna(0)\n",
    "feature_train_.info()"
   ]
  },
  {
   "cell_type": "code",
   "execution_count": 22,
   "id": "73a214d1",
   "metadata": {},
   "outputs": [
    {
     "data": {
      "text/html": [
       "<div>\n",
       "<style scoped>\n",
       "    .dataframe tbody tr th:only-of-type {\n",
       "        vertical-align: middle;\n",
       "    }\n",
       "\n",
       "    .dataframe tbody tr th {\n",
       "        vertical-align: top;\n",
       "    }\n",
       "\n",
       "    .dataframe thead th {\n",
       "        text-align: right;\n",
       "    }\n",
       "</style>\n",
       "<table border=\"1\" class=\"dataframe\">\n",
       "  <thead>\n",
       "    <tr style=\"text-align: right;\">\n",
       "      <th></th>\n",
       "      <th>subcategory</th>\n",
       "      <th>category</th>\n",
       "      <th>region</th>\n",
       "      <th>city</th>\n",
       "      <th>description</th>\n",
       "      <th>price</th>\n",
       "    </tr>\n",
       "  </thead>\n",
       "  <tbody>\n",
       "    <tr>\n",
       "      <td>0</td>\n",
       "      <td>29.0</td>\n",
       "      <td>0.0</td>\n",
       "      <td>55.0</td>\n",
       "      <td>1329.0</td>\n",
       "      <td>В комплекте основная зарядка и док-станция WD4...</td>\n",
       "      <td>45000.0</td>\n",
       "    </tr>\n",
       "    <tr>\n",
       "      <td>1</td>\n",
       "      <td>18.0</td>\n",
       "      <td>9.0</td>\n",
       "      <td>63.0</td>\n",
       "      <td>622.0</td>\n",
       "      <td>Есть еще другая литература до с 30 до 80х годо...</td>\n",
       "      <td>0.0</td>\n",
       "    </tr>\n",
       "    <tr>\n",
       "      <td>2</td>\n",
       "      <td>19.0</td>\n",
       "      <td>9.0</td>\n",
       "      <td>55.0</td>\n",
       "      <td>1329.0</td>\n",
       "      <td>Продаю старые советские монеты времен СССР/\\nц...</td>\n",
       "      <td>800.0</td>\n",
       "    </tr>\n",
       "    <tr>\n",
       "      <td>3</td>\n",
       "      <td>10.0</td>\n",
       "      <td>7.0</td>\n",
       "      <td>73.0</td>\n",
       "      <td>2167.0</td>\n",
       "      <td>Породам бурильную установку МГБУ-ТС 25 полност...</td>\n",
       "      <td>210000.0</td>\n",
       "    </tr>\n",
       "    <tr>\n",
       "      <td>4</td>\n",
       "      <td>14.0</td>\n",
       "      <td>7.0</td>\n",
       "      <td>25.0</td>\n",
       "      <td>998.0</td>\n",
       "      <td>Сигнал заднего хода/\\nPreco Model 370/\\n507 ДБ...</td>\n",
       "      <td>2500.0</td>\n",
       "    </tr>\n",
       "    <tr>\n",
       "      <td>...</td>\n",
       "      <td>...</td>\n",
       "      <td>...</td>\n",
       "      <td>...</td>\n",
       "      <td>...</td>\n",
       "      <td>...</td>\n",
       "      <td>...</td>\n",
       "    </tr>\n",
       "    <tr>\n",
       "      <td>79995</td>\n",
       "      <td>0.0</td>\n",
       "      <td>7.0</td>\n",
       "      <td>13.0</td>\n",
       "      <td>558.0</td>\n",
       "      <td>Машина в хорошем состоянии стоит газ форсуночн...</td>\n",
       "      <td>160000.0</td>\n",
       "    </tr>\n",
       "    <tr>\n",
       "      <td>79996</td>\n",
       "      <td>45.0</td>\n",
       "      <td>4.0</td>\n",
       "      <td>10.0</td>\n",
       "      <td>390.0</td>\n",
       "      <td>Продаю новые селиконовые накладки для груди, р...</td>\n",
       "      <td>250.0</td>\n",
       "    </tr>\n",
       "    <tr>\n",
       "      <td>79997</td>\n",
       "      <td>11.0</td>\n",
       "      <td>4.0</td>\n",
       "      <td>55.0</td>\n",
       "      <td>1329.0</td>\n",
       "      <td>Костюм для девочки /\\nРазмеры 602 и 660/\\nСост...</td>\n",
       "      <td>1000.0</td>\n",
       "    </tr>\n",
       "    <tr>\n",
       "      <td>79998</td>\n",
       "      <td>2.0</td>\n",
       "      <td>0.0</td>\n",
       "      <td>84.0</td>\n",
       "      <td>1841.0</td>\n",
       "      <td>Корпус для РЭА Gainta G0425 444х10х60, в налич...</td>\n",
       "      <td>400.0</td>\n",
       "    </tr>\n",
       "    <tr>\n",
       "      <td>79999</td>\n",
       "      <td>44.0</td>\n",
       "      <td>0.0</td>\n",
       "      <td>68.0</td>\n",
       "      <td>802.0</td>\n",
       "      <td>аккумулятор батарейка для телефонов, фотоаппар...</td>\n",
       "      <td>100.0</td>\n",
       "    </tr>\n",
       "  </tbody>\n",
       "</table>\n",
       "<p>80000 rows × 6 columns</p>\n",
       "</div>"
      ],
      "text/plain": [
       "       subcategory  category  region    city  \\\n",
       "0             29.0       0.0    55.0  1329.0   \n",
       "1             18.0       9.0    63.0   622.0   \n",
       "2             19.0       9.0    55.0  1329.0   \n",
       "3             10.0       7.0    73.0  2167.0   \n",
       "4             14.0       7.0    25.0   998.0   \n",
       "...            ...       ...     ...     ...   \n",
       "79995          0.0       7.0    13.0   558.0   \n",
       "79996         45.0       4.0    10.0   390.0   \n",
       "79997         11.0       4.0    55.0  1329.0   \n",
       "79998          2.0       0.0    84.0  1841.0   \n",
       "79999         44.0       0.0    68.0   802.0   \n",
       "\n",
       "                                             description     price  \n",
       "0      В комплекте основная зарядка и док-станция WD4...   45000.0  \n",
       "1      Есть еще другая литература до с 30 до 80х годо...       0.0  \n",
       "2      Продаю старые советские монеты времен СССР/\\nц...     800.0  \n",
       "3      Породам бурильную установку МГБУ-ТС 25 полност...  210000.0  \n",
       "4      Сигнал заднего хода/\\nPreco Model 370/\\n507 ДБ...    2500.0  \n",
       "...                                                  ...       ...  \n",
       "79995  Машина в хорошем состоянии стоит газ форсуночн...  160000.0  \n",
       "79996  Продаю новые селиконовые накладки для груди, р...     250.0  \n",
       "79997  Костюм для девочки /\\nРазмеры 602 и 660/\\nСост...    1000.0  \n",
       "79998  Корпус для РЭА Gainta G0425 444х10х60, в налич...     400.0  \n",
       "79999  аккумулятор батарейка для телефонов, фотоаппар...     100.0  \n",
       "\n",
       "[80000 rows x 6 columns]"
      ]
     },
     "execution_count": 22,
     "metadata": {},
     "output_type": "execute_result"
    }
   ],
   "source": [
    "feature_train_"
   ]
  },
  {
   "cell_type": "code",
   "execution_count": 23,
   "id": "9e09d491",
   "metadata": {},
   "outputs": [],
   "source": [
    "from sklearn.model_selection import train_test_split, GridSearchCV\n",
    "from sklearn.metrics import mean_absolute_error, make_scorer\n",
    "from lightgbm import LGBMRegressor\n",
    "from catboost import CatBoostClassifier"
   ]
  },
  {
   "cell_type": "code",
   "execution_count": 24,
   "id": "7d52f24e",
   "metadata": {},
   "outputs": [],
   "source": [
    "# model_cat = CatBoostClassifier(iterations=1000,\n",
    "#                           learning_rate=0.001,\n",
    "#                           verbose=False,\n",
    "#                           loss_function='Logloss',\n",
    "#                           text_features = ['description','subcategory','category','region','city'])"
   ]
  },
  {
   "cell_type": "code",
   "execution_count": 25,
   "id": "ad4ff3e3",
   "metadata": {},
   "outputs": [],
   "source": [
    "n_val = n_val.fillna(0)"
   ]
  },
  {
   "cell_type": "code",
   "execution_count": 27,
   "id": "7046c97f",
   "metadata": {},
   "outputs": [],
   "source": [
    "train, test = train_test_split(n_val, stratify = n_val['is_bad'], test_size = 0.20, random_state = 12345)"
   ]
  },
  {
   "cell_type": "code",
   "execution_count": 28,
   "id": "d783649f",
   "metadata": {},
   "outputs": [],
   "source": [
    "val_train_features = train.drop(['is_bad'], axis = 1)\n",
    "val_train_target = train['is_bad']\n",
    "val_test_features = test.drop(['is_bad'], axis = 1)\n",
    "val_test_target = test['is_bad']\n"
   ]
  },
  {
   "cell_type": "code",
   "execution_count": 29,
   "id": "1a1504cf",
   "metadata": {},
   "outputs": [],
   "source": [
    "model_cat = CatBoostClassifier(iterations=1000,\n",
    "                          learning_rate=0.001,\n",
    "                          verbose=False,\n",
    "                          loss_function='Logloss',\n",
    "                          text_features = [4])\n",
    "                          #cat_features = ['subcategory','category','region','city'])"
   ]
  },
  {
   "cell_type": "code",
   "execution_count": 30,
   "id": "1d5c62cd",
   "metadata": {},
   "outputs": [],
   "source": [
    "# %%time\n",
    "\n",
    "# param = {'l2_leaf_reg': [1, 9, 20],\n",
    "#         'learning_rate': [0.001, 0.01, 0.1],\n",
    "#         'depth': [4, 6, 8]} #10, 12]}\n",
    "\n",
    "# grid = model_cat.grid_search(param, X=feature_train_, y=target_train)"
   ]
  },
  {
   "cell_type": "code",
   "execution_count": 31,
   "id": "6baed6e9",
   "metadata": {},
   "outputs": [],
   "source": [
    "# grid.best_params_"
   ]
  },
  {
   "cell_type": "code",
   "execution_count": 32,
   "id": "adfd92c1",
   "metadata": {},
   "outputs": [],
   "source": [
    "# model_grid = CatBoostClassifier(iterations=2000,\n",
    "#                           verbose=False,\n",
    "#                           loss_function='RMSE',\n",
    "#                           **grid['param'])"
   ]
  },
  {
   "cell_type": "code",
   "execution_count": 33,
   "id": "ee69d67c",
   "metadata": {},
   "outputs": [
    {
     "data": {
      "text/plain": [
       "<catboost.core.CatBoostClassifier at 0x176d41add48>"
      ]
     },
     "execution_count": 33,
     "metadata": {},
     "output_type": "execute_result"
    }
   ],
   "source": [
    "%%time\n",
    "\n",
    "model_cat.fit(val_train_features, val_train_target)"
   ]
  },
  {
   "cell_type": "code",
   "execution_count": 34,
   "id": "547c744d",
   "metadata": {},
   "outputs": [],
   "source": [
    "# test['description'] = test['description'].astype('str')\n",
    "# test.info()"
   ]
  },
  {
   "cell_type": "code",
   "execution_count": 35,
   "id": "b2711edc",
   "metadata": {},
   "outputs": [],
   "source": [
    "probabilities_valid = model_cat.predict_proba(val_test_features)\n",
    "proba_one = probabilities_valid[:,1]"
   ]
  },
  {
   "cell_type": "code",
   "execution_count": 36,
   "id": "a5f30bd5",
   "metadata": {},
   "outputs": [
    {
     "data": {
      "text/plain": [
       "array([0.14318212, 0.64534188, 0.72958549, ..., 0.54383308, 0.11043416,\n",
       "       0.13075288])"
      ]
     },
     "execution_count": 36,
     "metadata": {},
     "output_type": "execute_result"
    }
   ],
   "source": [
    "proba_one"
   ]
  },
  {
   "cell_type": "code",
   "execution_count": 37,
   "id": "3faecba8",
   "metadata": {},
   "outputs": [
    {
     "data": {
      "text/html": [
       "<div>\n",
       "<style scoped>\n",
       "    .dataframe tbody tr th:only-of-type {\n",
       "        vertical-align: middle;\n",
       "    }\n",
       "\n",
       "    .dataframe tbody tr th {\n",
       "        vertical-align: top;\n",
       "    }\n",
       "\n",
       "    .dataframe thead th {\n",
       "        text-align: right;\n",
       "    }\n",
       "</style>\n",
       "<table border=\"1\" class=\"dataframe\">\n",
       "  <thead>\n",
       "    <tr style=\"text-align: right;\">\n",
       "      <th></th>\n",
       "      <th>index</th>\n",
       "      <th>prediction</th>\n",
       "    </tr>\n",
       "  </thead>\n",
       "  <tbody>\n",
       "    <tr>\n",
       "      <td>0</td>\n",
       "      <td>1468</td>\n",
       "      <td>0.143182</td>\n",
       "    </tr>\n",
       "    <tr>\n",
       "      <td>1</td>\n",
       "      <td>6624</td>\n",
       "      <td>0.645342</td>\n",
       "    </tr>\n",
       "    <tr>\n",
       "      <td>2</td>\n",
       "      <td>1621</td>\n",
       "      <td>0.729585</td>\n",
       "    </tr>\n",
       "    <tr>\n",
       "      <td>3</td>\n",
       "      <td>4520</td>\n",
       "      <td>0.151078</td>\n",
       "    </tr>\n",
       "    <tr>\n",
       "      <td>4</td>\n",
       "      <td>14377</td>\n",
       "      <td>0.585444</td>\n",
       "    </tr>\n",
       "    <tr>\n",
       "      <td>...</td>\n",
       "      <td>...</td>\n",
       "      <td>...</td>\n",
       "    </tr>\n",
       "    <tr>\n",
       "      <td>3243</td>\n",
       "      <td>15192</td>\n",
       "      <td>0.429188</td>\n",
       "    </tr>\n",
       "    <tr>\n",
       "      <td>3244</td>\n",
       "      <td>4497</td>\n",
       "      <td>0.626399</td>\n",
       "    </tr>\n",
       "    <tr>\n",
       "      <td>3245</td>\n",
       "      <td>16194</td>\n",
       "      <td>0.543833</td>\n",
       "    </tr>\n",
       "    <tr>\n",
       "      <td>3246</td>\n",
       "      <td>2853</td>\n",
       "      <td>0.110434</td>\n",
       "    </tr>\n",
       "    <tr>\n",
       "      <td>3247</td>\n",
       "      <td>13760</td>\n",
       "      <td>0.130753</td>\n",
       "    </tr>\n",
       "  </tbody>\n",
       "</table>\n",
       "<p>3248 rows × 2 columns</p>\n",
       "</div>"
      ],
      "text/plain": [
       "      index  prediction\n",
       "0      1468    0.143182\n",
       "1      6624    0.645342\n",
       "2      1621    0.729585\n",
       "3      4520    0.151078\n",
       "4     14377    0.585444\n",
       "...     ...         ...\n",
       "3243  15192    0.429188\n",
       "3244   4497    0.626399\n",
       "3245  16194    0.543833\n",
       "3246   2853    0.110434\n",
       "3247  13760    0.130753\n",
       "\n",
       "[3248 rows x 2 columns]"
      ]
     },
     "execution_count": 37,
     "metadata": {},
     "output_type": "execute_result"
    }
   ],
   "source": [
    "total_one = pd.DataFrame({'index': val_test_target.index, 'prediction': proba_one})\n",
    "total_one"
   ]
  },
  {
   "cell_type": "code",
   "execution_count": 38,
   "id": "86e1085c",
   "metadata": {},
   "outputs": [
    {
     "name": "stdout",
     "output_type": "stream",
     "text": [
      "ROC-AUC: 0.9235067056325675\n"
     ]
    }
   ],
   "source": [
    "from sklearn.metrics import roc_auc_score\n",
    "\n",
    "# pred_test = model_linear_01.predict_proba(tf_idf_test)[:, 1]\n",
    "print('ROC-AUC:', roc_auc_score(val_test_target, total_one['prediction']))"
   ]
  }
 ],
 "metadata": {
  "kernelspec": {
   "display_name": "Python 3",
   "language": "python",
   "name": "python3"
  },
  "language_info": {
   "codemirror_mode": {
    "name": "ipython",
    "version": 3
   },
   "file_extension": ".py",
   "mimetype": "text/x-python",
   "name": "python",
   "nbconvert_exporter": "python",
   "pygments_lexer": "ipython3",
   "version": "3.7.10"
  }
 },
 "nbformat": 4,
 "nbformat_minor": 5
}
